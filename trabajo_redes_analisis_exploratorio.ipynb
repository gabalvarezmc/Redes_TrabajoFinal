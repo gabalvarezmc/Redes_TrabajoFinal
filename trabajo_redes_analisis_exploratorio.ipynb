{
 "cells": [
  {
   "cell_type": "code",
   "execution_count": null,
   "metadata": {},
   "outputs": [],
   "source": [
    "!pip install -r requirements.txt"
   ]
  },
  {
   "cell_type": "code",
   "execution_count": null,
   "metadata": {},
   "outputs": [],
   "source": [
    "import pandas as pd"
   ]
  },
  {
   "cell_type": "code",
   "execution_count": null,
   "metadata": {},
   "outputs": [],
   "source": [
    "# consolidado_reviews_Los_Rios.xlsx: Set de datos originales\n",
    "df_base = pd.read_excel('consolidado_reviews_Los_Rios.xlsx')\n",
    "# consolidado_reviews_Los_Rios_con_latlon.xlsx: Set de datos con latitud y longitud pero con otros campos filtrados ('N', 'place_id', 'Latitud', 'Longitud', 'name', 'id_usuario', 'stars', 'fecha')\n",
    "df_latlon = pd.read_excel('consolidado_reviews_Los_Rios_con_latlon.xlsx')\n",
    "# nodos_Los_Rios.xlsx: Set de datos sólo con nodos con el \"stars\" promediado.\n",
    "df_nodos = pd.read_excel('nodos_Los_Rios.xlsx')\n"
   ]
  }
 ],
 "metadata": {
  "kernelspec": {
   "display_name": ".venv",
   "language": "python",
   "name": "python3"
  },
  "language_info": {
   "name": "python",
   "version": "3.10.9"
  }
 },
 "nbformat": 4,
 "nbformat_minor": 2
}
